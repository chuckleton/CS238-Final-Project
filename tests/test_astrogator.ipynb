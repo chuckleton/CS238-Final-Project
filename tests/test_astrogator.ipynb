{
 "cells": [
  {
   "cell_type": "code",
   "execution_count": 1,
   "metadata": {},
   "outputs": [],
   "source": [
    "%load_ext autoreload\n",
    "%autoreload 2\n"
   ]
  },
  {
   "cell_type": "code",
   "execution_count": 2,
   "metadata": {},
   "outputs": [],
   "source": [
    "from cs238_final_project.simulation.simulation import Simulation\n",
    "\n",
    "scenario_path = \"C:\\\\Users\\\\dkolano\\\\OneDrive - Agile Space Industries\\\\Documents\\\\STK 12\\\\test_astrogator_collision\\\\test_astrogator_collision.sc\""
   ]
  },
  {
   "cell_type": "code",
   "execution_count": 3,
   "metadata": {},
   "outputs": [
    {
     "name": "stdout",
     "output_type": "stream",
     "text": [
      "Launching STK...\n"
     ]
    }
   ],
   "source": [
    "visible = True\n",
    "userControl = True\n",
    "sim = Simulation.simulation_from_file(\n",
    "    scenario_path, use_stk_engine=False,\n",
    "    visible=visible, userControl=userControl)"
   ]
  },
  {
   "cell_type": "code",
   "execution_count": 54,
   "metadata": {},
   "outputs": [],
   "source": [
    "actions = [\n",
    "    [10.0, 0.0, 0.0],\n",
    "    [0.0, 10.0, 0.0],\n",
    "    [10.0, 10.0, 0.0],\n",
    "    [0.0, 0.0, 10.0],\n",
    "]\n",
    "for action in actions:\n",
    "    sim.execute_action(action)"
   ]
  },
  {
   "cell_type": "code",
   "execution_count": 56,
   "metadata": {},
   "outputs": [],
   "source": [
    "sim.reset_simulation()"
   ]
  },
  {
   "cell_type": "code",
   "execution_count": 39,
   "metadata": {},
   "outputs": [],
   "source": [
    "sim.advcat.compute()"
   ]
  },
  {
   "cell_type": "code",
   "execution_count": 50,
   "metadata": {},
   "outputs": [
    {
     "name": "stdout",
     "output_type": "stream",
     "text": [
      "0\n"
     ]
    }
   ],
   "source": [
    "# print(help(sim.advcat.advcat))\n",
    "# for data_provider in sim.advcat.advcat.DataProviders:\n",
    "#     print(data_provider.Name)\n",
    "events_by_min_range = sim.advcat.advcat.DataProviders.Item(\"Events by Min Range\")\n",
    "# print(help(events_by_min_range))\n",
    "end_time = sim.scenario.StopTime\n",
    "start_time = 0\n",
    "res = events_by_min_range.ExecElements(\n",
    "    start_time, end_time, ['Collision Probability (Analytic)'])\n",
    "print(res.DataSets.Count)\n",
    "# print(res.DataSets.GetDataSetByName(\"Collision Probability (Analytic)\"))\n",
    "# print(help(res))\n",
    "for dataset in res.DataSets:\n",
    "    print(dataset.GetValues()[0])\n",
    "# for child in sim.advcat.advcat.Children:\n",
    "#     print(child)"
   ]
  },
  {
   "cell_type": "code",
   "execution_count": 57,
   "metadata": {},
   "outputs": [
    {
     "name": "stdout",
     "output_type": "stream",
     "text": [
      "1.0420623586249178e-08\n"
     ]
    }
   ],
   "source": [
    "from cs238_final_project.simulation.advcat import AdvCAT\n",
    "sim.advcat = AdvCAT(sim.scenario, 'AdvCAT1')\n",
    "print(sim.advcat.get_collision_probability())"
   ]
  },
  {
   "cell_type": "code",
   "execution_count": null,
   "metadata": {},
   "outputs": [],
   "source": []
  }
 ],
 "metadata": {
  "interpreter": {
   "hash": "7854526f3ee4399d2e843ec361d05ee871ea237e4a8dd70ed8421fe5c1a50022"
  },
  "kernelspec": {
   "display_name": "Python 3.10.0 64-bit ('cs238-final-project-YP2M4PmP-py3.10': poetry)",
   "language": "python",
   "name": "python3"
  },
  "language_info": {
   "codemirror_mode": {
    "name": "ipython",
    "version": 3
   },
   "file_extension": ".py",
   "mimetype": "text/x-python",
   "name": "python",
   "nbconvert_exporter": "python",
   "pygments_lexer": "ipython3",
   "version": "3.10.0"
  },
  "orig_nbformat": 4
 },
 "nbformat": 4,
 "nbformat_minor": 2
}
